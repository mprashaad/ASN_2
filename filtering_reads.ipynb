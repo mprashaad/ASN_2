{
 "cells": [
  {
   "cell_type": "code",
   "execution_count": 1,
   "metadata": {},
   "outputs": [],
   "source": [
    "import sys\n",
    "quality_lower_limit = 0"
   ]
  },
  {
   "cell_type": "code",
   "execution_count": 2,
   "metadata": {},
   "outputs": [],
   "source": [
    "transposon_file = \"C:\\\\Users\\\\mpras\\\\Desktop\\\\combined_t.sam\"\n",
    "yeast_file = \"C:\\\\Users\\\\mpras\\\\Desktop\\\\combined.sam\"\n",
    "files = [transposon_file, yeast_file]"
   ]
  },
  {
   "cell_type": "code",
   "execution_count": 3,
   "metadata": {},
   "outputs": [],
   "source": [
    "transposon = []\n",
    "yeast = []\n",
    "lst = [transposon, yeast]"
   ]
  },
  {
   "cell_type": "code",
   "execution_count": 4,
   "metadata": {},
   "outputs": [],
   "source": [
    "for i in range(2):\n",
    "    with open(files[i], \"r\") as doc:\n",
    "        while True:\n",
    "            line = doc.readline()\n",
    "            if not line:\n",
    "                break;\n",
    "            else:\n",
    "                read_name, mapq = line.split(\"\\t\")[0],int(line.split(\"\\t\")[4])\n",
    "                if read_name not in lst[i] and mapq >= quality_lower_limit:\n",
    "                    lst[i].append(read_name)\n",
    "    doc.close()"
   ]
  },
  {
   "cell_type": "code",
   "execution_count": 5,
   "metadata": {},
   "outputs": [],
   "source": [
    "final = []\n",
    "for i in transposon:\n",
    "    if i in yeast:\n",
    "        final.append(i)"
   ]
  },
  {
   "cell_type": "code",
   "execution_count": 6,
   "metadata": {},
   "outputs": [],
   "source": [
    "yeast_intersect_file = \"C:\\\\Users\\\\mpras\\\\Desktop\\\\yeast_intersect.sam\"\n",
    "with open(yeast_file, \"r\") as doc:\n",
    "    with open(yeast_intersect_file, \"w\") as doc2:\n",
    "        while True:\n",
    "            line = doc.readline()\n",
    "            if not line:\n",
    "                break;\n",
    "            else:\n",
    "                read_name = line.split(\"\\t\")[0]\n",
    "                if read_name in final:\n",
    "                    doc2.write(line)\n",
    "        doc2.close()\n",
    "        doc.close()"
   ]
  },
  {
   "cell_type": "code",
   "execution_count": 7,
   "metadata": {},
   "outputs": [],
   "source": [
    "transposon_intersect_file = \"C:\\\\Users\\\\mpras\\\\Desktop\\\\transposon_intersect.sam\"\n",
    "with open(transposon_file, \"r\") as doc:\n",
    "    with open(transposon_intersect_file, \"w\") as doc2:\n",
    "        while True:\n",
    "            line = doc.readline()\n",
    "            if not line:\n",
    "                break;\n",
    "            else:\n",
    "                read_name = line.split(\"\\t\")[0]\n",
    "                if read_name in final:\n",
    "                    doc2.write(line)\n",
    "        doc2.close()\n",
    "        doc.close()"
   ]
  },
  {
   "cell_type": "code",
   "execution_count": null,
   "metadata": {},
   "outputs": [],
   "source": []
  }
 ],
 "metadata": {
  "kernelspec": {
   "display_name": "Python 3",
   "language": "python",
   "name": "python3"
  },
  "language_info": {
   "codemirror_mode": {
    "name": "ipython",
    "version": 3
   },
   "file_extension": ".py",
   "mimetype": "text/x-python",
   "name": "python",
   "nbconvert_exporter": "python",
   "pygments_lexer": "ipython3",
   "version": "3.7.1"
  }
 },
 "nbformat": 4,
 "nbformat_minor": 2
}
